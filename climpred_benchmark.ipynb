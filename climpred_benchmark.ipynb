{
 "cells": [
  {
   "cell_type": "code",
   "execution_count": null,
   "metadata": {},
   "outputs": [],
   "source": [
    "%load_ext nb_black"
   ]
  },
  {
   "cell_type": "code",
   "execution_count": 1,
   "metadata": {},
   "outputs": [
    {
     "name": "stderr",
     "output_type": "stream",
     "text": [
      "/Users/aaron.spring/anaconda3/envs/xr/lib/python3.7/site-packages/tqdm/autonotebook/__init__.py:14: TqdmExperimentalWarning: Using `tqdm.autonotebook.tqdm` in notebook mode. Use `tqdm.tqdm` instead to force console mode (e.g. in jupyter console)\n",
      "  \" (e.g. in jupyter console)\", TqdmExperimentalWarning)\n"
     ]
    }
   ],
   "source": [
    "# Import some python libraries\n",
    "%matplotlib inline\n",
    "\n",
    "import numpy as np\n",
    "import xarray as xr\n",
    "import matplotlib.pyplot as plt"
   ]
  },
  {
   "cell_type": "code",
   "execution_count": null,
   "metadata": {},
   "outputs": [],
   "source": [
    "from dask_gateway import Gateway\n",
    "from dask.distributed import Client\n",
    "\n",
    "gateway = Gateway()\n",
    "options = gateway.cluster_options()\n",
    "options.worker_cores = 4\n",
    "cluster = gateway.new_cluster(cluster_options=options)\n",
    "\n",
    "cluster.scale(48)\n",
    "from time import sleep\n",
    "sleep(10)"
   ]
  },
  {
   "cell_type": "code",
   "execution_count": null,
   "metadata": {},
   "outputs": [],
   "source": [
    "client = Client(cluster)\n",
    "client.restart()"
   ]
  },
  {
   "cell_type": "markdown",
   "metadata": {},
   "source": [
    "---"
   ]
  },
  {
   "cell_type": "markdown",
   "metadata": {},
   "source": [
    "# Introduction\n",
    "\n",
    "This notebook demonstrates the performance of `climpred` on large datasets.\n",
    "Here, we run `bootstrap_perfect_model` and `bootstrap_hindcast` `iteration` times\n",
    "to calculate a pvalue that initialized skill surpasses uninitialized skill."
   ]
  },
  {
   "cell_type": "markdown",
   "metadata": {},
   "source": [
    "---"
   ]
  },
  {
   "cell_type": "markdown",
   "metadata": {},
   "source": [
    "# perfect_model"
   ]
  },
  {
   "cell_type": "markdown",
   "metadata": {},
   "source": [
    "## fake data"
   ]
  },
  {
   "cell_type": "code",
   "execution_count": null,
   "metadata": {},
   "outputs": [],
   "source": [
    "def gen_pm(degree=5, chunking_dim='lon'):\n",
    "    ds = xr.Dataset()\n",
    "    control = xr.Dataset()\n",
    "    nmember = 10\n",
    "    ninit = 12\n",
    "    nlead = 5\n",
    "    nx = 360//degree\n",
    "    ny = 180//degree\n",
    "    control_start = 3000\n",
    "    control_end = 3300\n",
    "    ntime = control_end - control_start\n",
    "\n",
    "    times = xr.cftime_range(\n",
    "        start=str(control_start),\n",
    "        periods=ntime,\n",
    "        freq='YS',\n",
    "        calendar='noleap',\n",
    "    )\n",
    "    leads = np.arange(1, 1 + nlead)\n",
    "    members = np.arange(1, 1 + nmember)\n",
    "    inits = xr.cftime_range(\n",
    "        start=str(control_start),\n",
    "        periods=ninit,\n",
    "        freq='10YS',\n",
    "        calendar='noleap',\n",
    "    )\n",
    "\n",
    "    lons = xr.DataArray(\n",
    "        np.linspace(0.5, 359.5, nx),\n",
    "        dims=('lon',),\n",
    "        attrs={'units': 'degrees east', 'long_name': 'longitude'},\n",
    "    )\n",
    "    lats = xr.DataArray(\n",
    "        np.linspace(-89.5, 89.5, ny),\n",
    "        dims=('lat',),\n",
    "        attrs={'units': 'degrees north', 'long_name': 'latitude'},\n",
    "    )\n",
    "    ds['var'] = xr.DataArray(\n",
    "                np.random.random(\n",
    "                    (nmember, ninit, nlead, nx, ny),\n",
    "                ),\n",
    "                coords={\n",
    "                    'member': members,\n",
    "                    'init': inits,\n",
    "                    'lon': lons,\n",
    "                    'lat': lats,\n",
    "                    'lead': leads,\n",
    "                },\n",
    "                dims=('member', 'init', 'lead', 'lon', 'lat'),\n",
    "                name='var',)\n",
    "\n",
    "    control['var'] = xr.DataArray(\n",
    "                np.random.random((ntime, nx, ny)),\n",
    "                coords={'lon': lons, 'lat': lats, 'time': times},\n",
    "                dims=('time', 'lon', 'lat'),\n",
    "                name='var',\n",
    "                attrs={'units': 'var units', 'description': 'a description'},\n",
    "            )\n",
    "    control=control['var'].chunk({'time':'auto'})\n",
    "\n",
    "    ds.lead.attrs['units'] = 'years'\n",
    "\n",
    "    ds=ds['var']\n",
    "    if chunking_dim is not None:\n",
    "        ds=ds.chunk({chunking_dim:'auto'})\n",
    "        control=control.chunk({chunking_dim:'auto'})\n",
    "\n",
    "    return ds, control\n",
    "\n",
    "ds, control = gen_pm()"
   ]
  },
  {
   "cell_type": "markdown",
   "metadata": {},
   "source": [
    "## Skill"
   ]
  },
  {
   "cell_type": "code",
   "execution_count": null,
   "metadata": {},
   "outputs": [],
   "source": [
    "from climpred.prediction import compute_perfect_model"
   ]
  },
  {
   "cell_type": "code",
   "execution_count": null,
   "metadata": {},
   "outputs": [],
   "source": [
    "cp_kwargs = {'metric': 'acc', 'comparison':'m2e'}"
   ]
  },
  {
   "cell_type": "code",
   "execution_count": null,
   "metadata": {},
   "outputs": [],
   "source": [
    "%time skill = compute_perfect_model(ds, control, **cp_kwargs)"
   ]
  },
  {
   "cell_type": "code",
   "execution_count": null,
   "metadata": {},
   "outputs": [],
   "source": [
    "%time skillc = skill.compute()"
   ]
  },
  {
   "cell_type": "markdown",
   "metadata": {},
   "source": [
    "## Bootstrap significant skill"
   ]
  },
  {
   "cell_type": "code",
   "execution_count": null,
   "metadata": {},
   "outputs": [],
   "source": [
    "from climpred.bootstrap import bootstrap_perfect_model"
   ]
  },
  {
   "cell_type": "code",
   "execution_count": null,
   "metadata": {},
   "outputs": [],
   "source": [
    "bootstrap=100"
   ]
  },
  {
   "cell_type": "code",
   "execution_count": null,
   "metadata": {},
   "outputs": [],
   "source": [
    "%time bskill = bootstrap_hindcast(hind, hist, obsd, bootstrap=bootstrap, **cp_kwargs)"
   ]
  },
  {
   "cell_type": "code",
   "execution_count": null,
   "metadata": {},
   "outputs": [],
   "source": [
    "improved_by_init = bskill.sel(results='skill',kind='init').where(bskill.sel(results='p',kind='uninit') <= 0.05)\n",
    "%time improved_by_init_c = improved_by_init.compute()"
   ]
  },
  {
   "cell_type": "markdown",
   "metadata": {},
   "source": [
    "# Hindcast"
   ]
  },
  {
   "cell_type": "markdown",
   "metadata": {},
   "source": [
    "## fake data"
   ]
  },
  {
   "cell_type": "code",
   "execution_count": null,
   "metadata": {},
   "outputs": [],
   "source": [
    "def gen_hind(degree=5,nmember=34,nlead=10, chunking_dim='lon'):\n",
    "    hind = xr.Dataset()\n",
    "    observations = xr.Dataset()\n",
    "    uninit=xr.Dataset()\n",
    "    nx = 360//degree\n",
    "    ny = 180//degree\n",
    "    init_start = 1960\n",
    "    init_end = 2015\n",
    "    ninit = init_end - init_start\n",
    "\n",
    "    times = xr.cftime_range(\n",
    "        start=str(init_start),\n",
    "        periods=ninit,\n",
    "        freq='YS',\n",
    "        calendar='noleap',\n",
    "    )\n",
    "    leads = np.arange(1, 1 + nlead)\n",
    "    members = np.arange(1, 1 + nmember)\n",
    "    inits = xr.cftime_range(\n",
    "        start=str(init_start), end=str(init_end-1),\n",
    "        freq='YS',\n",
    "    )\n",
    "\n",
    "    lons = xr.DataArray(\n",
    "        np.linspace(0.5, 359.5, nx),\n",
    "        dims=('lon',),\n",
    "        attrs={'units': 'degrees east', 'long_name': 'longitude'},\n",
    "    )\n",
    "    lats = xr.DataArray(\n",
    "        np.linspace(-89.5, 89.5, ny),\n",
    "        dims=('lat',),\n",
    "        attrs={'units': 'degrees north', 'long_name': 'latitude'},\n",
    "    )\n",
    "    hind['var'] = xr.DataArray(\n",
    "                np.random.random(\n",
    "                    (nmember, ninit, nlead, nx, ny),\n",
    "                ),\n",
    "                coords={\n",
    "                    'member': members,\n",
    "                    'init': inits,\n",
    "                    'lon': lons,\n",
    "                    'lat': lats,\n",
    "                    'lead': leads,\n",
    "                },\n",
    "                dims=('member', 'init', 'lead', 'lon', 'lat'),\n",
    "                name='var',)\n",
    "\n",
    "    observations['var'] = xr.DataArray(\n",
    "                np.random.random((ninit, nx, ny)),\n",
    "                coords={'lon': lons, 'lat': lats, 'time': inits},\n",
    "                dims=('time', 'lon', 'lat'),\n",
    "                name='var',\n",
    "                attrs={'units': 'var units', 'description': 'a description'},\n",
    "            )\n",
    "    uninit['var'] = xr.DataArray(\n",
    "                np.random.random((ninit, nx, ny, nmember)),\n",
    "                coords={'lon': lons, 'lat': lats, 'time': inits, 'member': members},\n",
    "                dims=('time', 'lon', 'lat', 'member'),\n",
    "                name='var')\n",
    "\n",
    "    if chunking_dim is not None:\n",
    "        observations=observations.chunk({chunking_dim:'auto'})\n",
    "        uninit=uninit.chunk({chunking_dim:'auto'})\n",
    "        hind=hind.chunk({chunking_dim:'auto'})\n",
    "\n",
    "    observations=observations['var']\n",
    "    uninit=uninit['var']\n",
    "    hind=hind['var']\n",
    "    hind.lead.attrs['units'] = 'years'\n",
    "\n",
    "    return hind,uninit,obs\n",
    "\n",
    "hind,hist,obs = gen_hind()"
   ]
  },
  {
   "cell_type": "markdown",
   "metadata": {},
   "source": [
    "## Skill"
   ]
  },
  {
   "cell_type": "code",
   "execution_count": null,
   "metadata": {},
   "outputs": [],
   "source": [
    "from climpred.prediction import compute_hindcast"
   ]
  },
  {
   "cell_type": "code",
   "execution_count": null,
   "metadata": {},
   "outputs": [],
   "source": [
    "cp_kwargs = {'metric': 'acc', 'comparison':'e2r'}"
   ]
  },
  {
   "cell_type": "code",
   "execution_count": null,
   "metadata": {},
   "outputs": [],
   "source": [
    "%time skill = compute_hindcast(hind, obs, **cp_kwargs)"
   ]
  },
  {
   "cell_type": "code",
   "execution_count": null,
   "metadata": {},
   "outputs": [],
   "source": [
    "%time skillc = skill.compute()"
   ]
  },
  {
   "cell_type": "markdown",
   "metadata": {},
   "source": [
    "## Bootstrap significant skill"
   ]
  },
  {
   "cell_type": "code",
   "execution_count": null,
   "metadata": {},
   "outputs": [],
   "source": [
    "from climpred.bootstrap import bootstrap_hindcast"
   ]
  },
  {
   "cell_type": "code",
   "execution_count": null,
   "metadata": {},
   "outputs": [],
   "source": [
    "bootstrap=100"
   ]
  },
  {
   "cell_type": "code",
   "execution_count": null,
   "metadata": {},
   "outputs": [],
   "source": [
    "%time bskill = bootstrap_hindcast(hind, hist, obs, bootstrap=bootstrap, **cp_kwargs)"
   ]
  },
  {
   "cell_type": "code",
   "execution_count": null,
   "metadata": {},
   "outputs": [],
   "source": [
    "improved_by_init = bskill.sel(results='skill',kind='init').where(bskill.sel(results='p',kind='uninit') <= 0.05)\n",
    "%time improved_by_init_c = improved_by_init.compute()"
   ]
  },
  {
   "cell_type": "markdown",
   "metadata": {},
   "source": [
    "# Close down"
   ]
  },
  {
   "cell_type": "code",
   "execution_count": null,
   "metadata": {},
   "outputs": [],
   "source": [
    "client.close()\n",
    "cluster.close()"
   ]
  }
 ],
 "metadata": {
  "kernelspec": {
   "display_name": "xr",
   "language": "python",
   "name": "xr"
  },
  "language_info": {
   "codemirror_mode": {
    "name": "ipython",
    "version": 3
   },
   "file_extension": ".py",
   "mimetype": "text/x-python",
   "name": "python",
   "nbconvert_exporter": "python",
   "pygments_lexer": "ipython3",
   "version": "3.7.3"
  }
 },
 "nbformat": 4,
 "nbformat_minor": 4
}
