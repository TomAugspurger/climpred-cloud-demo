{
 "cells": [
  {
   "cell_type": "code",
   "execution_count": 1,
   "metadata": {},
   "outputs": [
    {
     "name": "stderr",
     "output_type": "stream",
     "text": [
      "/Users/aaron.spring/anaconda3/envs/xr/lib/python3.7/site-packages/tqdm/autonotebook/__init__.py:14: TqdmExperimentalWarning: Using `tqdm.autonotebook.tqdm` in notebook mode. Use `tqdm.tqdm` instead to force console mode (e.g. in jupyter console)\n",
      "  \" (e.g. in jupyter console)\", TqdmExperimentalWarning)\n"
     ]
    }
   ],
   "source": [
    "# Import some python libraries\n",
    "%matplotlib inline\n",
    "\n",
    "import numpy as np\n",
    "import xarray as xr\n",
    "import matplotlib.pyplot as plt\n",
    "import intake"
   ]
  },
  {
   "cell_type": "code",
   "execution_count": null,
   "metadata": {},
   "outputs": [],
   "source": [
    "# Setup a dask cluster\n",
    "from dask.distributed import Client\n",
    "from dask_kubernetes import KubeCluster\n",
    "\n",
    "cluster = KubeCluster(n_workers=10)\n",
    "cluster"
   ]
  },
  {
   "cell_type": "code",
   "execution_count": null,
   "metadata": {},
   "outputs": [],
   "source": [
    "client = Client(cluster)\n",
    "client"
   ]
  },
  {
   "cell_type": "code",
   "execution_count": null,
   "metadata": {},
   "outputs": [],
   "source": []
  },
  {
   "cell_type": "code",
   "execution_count": null,
   "metadata": {},
   "outputs": [],
   "source": [
    "col = intake.open_esm_datastore(\"https://raw.githubusercontent.com/NCAR/intake-esm-datastore/master/catalogs/pangeo-cmip6.json\")"
   ]
  },
  {
   "cell_type": "code",
   "execution_count": null,
   "metadata": {},
   "outputs": [],
   "source": [
    "variable_id = 'tas'\n",
    "table_id='Amon'\n",
    "source_id = 'CESM1-1-CAM5-CMIP5'"
   ]
  },
  {
   "cell_type": "markdown",
   "metadata": {},
   "source": [
    "# Get hindcast experiment"
   ]
  },
  {
   "cell_type": "code",
   "execution_count": null,
   "metadata": {},
   "outputs": [],
   "source": [
    "cat_cmip = col.search(experiment_id=['dcppA-hindcast'],\n",
    "                 table_id=table_id,       \n",
    "                 variable_id=variable_id,\n",
    "                 source_id=source_id,\n",
    "                     )\n",
    "cat_cmip.df['dcpp_init_year'] = cat_cmip.df.dcpp_init_year.astype(int)\n",
    "cat_cmip"
   ]
  },
  {
   "cell_type": "code",
   "execution_count": null,
   "metadata": {},
   "outputs": [],
   "source": [
    "members = sorted(list(cat_cmip.df.member_id.unique()))[:5]\n",
    "inits = list(np.arange(1970,1990))"
   ]
  },
  {
   "cell_type": "code",
   "execution_count": null,
   "metadata": {},
   "outputs": [],
   "source": [
    "cat_cmip = col.search(experiment_id=['dcppA-hindcast'],\n",
    "                 table_id=table_id,       \n",
    "                 variable_id=variable_id,\n",
    "                 source_id=source_id,\n",
    "                 member_id = members,\n",
    "                 dcpp_init_year=inits\n",
    "                     )\n",
    "cat_cmip.df['dcpp_init_year'] = cat_cmip.df.dcpp_init_year.astype(int)"
   ]
  },
  {
   "cell_type": "code",
   "execution_count": null,
   "metadata": {},
   "outputs": [],
   "source": [
    "def pre(ds,var='tas'):\n",
    "    ds['time']=np.arange(1,1+ds.time.size)\n",
    "    return ds[var].squeeze().to_dataset(name=var)"
   ]
  },
  {
   "cell_type": "code",
   "execution_count": null,
   "metadata": {},
   "outputs": [],
   "source": [
    "dset_dict = cat_cmip.to_dataset_dict(zarr_kwargs={'consolidated': True},preprocess=pre,cdf_kwargs={'decode_times':False})\n",
    "list(dset_dict.keys())"
   ]
  },
  {
   "cell_type": "code",
   "execution_count": null,
   "metadata": {},
   "outputs": [],
   "source": [
    "hind = dset_dict['DCPP.NCAR.CESM1-1-CAM5-CMIP5.dcppA-hindcast.Amon.gn']"
   ]
  },
  {
   "cell_type": "code",
   "execution_count": null,
   "metadata": {},
   "outputs": [],
   "source": [
    "hind = hind.rename({'member_id':'member','dcpp_init_year':'init','time':'lead'})"
   ]
  },
  {
   "cell_type": "code",
   "execution_count": null,
   "metadata": {},
   "outputs": [],
   "source": [
    "# throw away first two leads and create annual means\n",
    "hind=hind.isel(lead=slice(2,None))\n",
    "hind['lead']=xr.cftime_range(start='2000',freq='MS',periods=hind.lead.size)\n",
    "hind_ym = hind.groupby('lead.year').mean().rename({'year':'lead'})\n",
    "hind_ym['lead']=np.arange(1,1+hind_ym.lead.size)"
   ]
  },
  {
   "cell_type": "code",
   "execution_count": null,
   "metadata": {},
   "outputs": [],
   "source": [
    "hind_ym = hind_ym.chunk({'init':-1,'member':-1,'lead':1}).persist()\n",
    "\n",
    "hind_ym = hind_ym['tas']"
   ]
  },
  {
   "cell_type": "markdown",
   "metadata": {},
   "source": [
    "## Get historical"
   ]
  },
  {
   "cell_type": "code",
   "execution_count": null,
   "metadata": {},
   "outputs": [],
   "source": [
    "cat_cmip_hist = col.search(experiment_id=['historical','ssp45'],  # pick the `historical` forcing experiment\n",
    "                 table_id=table_id,       \n",
    "                 variable_id=variable_id,\n",
    "                 source_id='CESM2', # not exactly CESM-LE\n",
    "                 )"
   ]
  },
  {
   "cell_type": "code",
   "execution_count": null,
   "metadata": {},
   "outputs": [],
   "source": [
    "dset_dict = cat_cmip_hist.to_dataset_dict(zarr_kwargs={'consolidated': True})\n",
    "dset_dict.keys()"
   ]
  },
  {
   "cell_type": "code",
   "execution_count": null,
   "metadata": {},
   "outputs": [],
   "source": [
    "hist = dset_dict['CMIP.NCAR.CESM2.historical.Amon.gn']\n",
    "\n",
    "hist = hist[variable_id].squeeze()\n",
    "\n",
    "hist = hist.rename({'member_id':'member'})\n",
    "\n",
    "hist = hist.sel(time=slice('1960','2015'))\n",
    "\n",
    "hist_ym = hist.groupby('time.year').mean().rename({'year':'time'})\n",
    "\n",
    "hist_ym.data"
   ]
  },
  {
   "cell_type": "markdown",
   "metadata": {},
   "source": [
    "## Get assimilation"
   ]
  },
  {
   "cell_type": "code",
   "execution_count": null,
   "metadata": {},
   "outputs": [],
   "source": [
    "cat_cmip_hist = col.search(experiment_id=['dcppA-assim'],  # pick the `historical` forcing experiment\n",
    "                 table_id=table_id,       \n",
    "                 variable_id=variable_id,\n",
    "                 source_id=source_id\n",
    "                          )"
   ]
  },
  {
   "cell_type": "code",
   "execution_count": null,
   "metadata": {},
   "outputs": [],
   "source": [
    "cat_cmip_hist.df.source_id.unique()"
   ]
  },
  {
   "cell_type": "markdown",
   "metadata": {},
   "source": [
    "## Get observations"
   ]
  },
  {
   "cell_type": "code",
   "execution_count": 3,
   "metadata": {},
   "outputs": [
    {
     "name": "stdout",
     "output_type": "stream",
     "text": [
      "--2020-02-18 21:22:07--  https://crudata.uea.ac.uk/cru/data/temperature/HadCRUT.4.6.0.0.median.nc\n",
      "Aufl\"osen des Hostnamens crudata.uea.ac.uk (crudata.uea.ac.uk)... 139.222.133.100\n",
      "Verbindungsaufbau zu crudata.uea.ac.uk (crudata.uea.ac.uk)|139.222.133.100|:443 ... verbunden.\n",
      "HTTP-Anforderung gesendet, auf Antwort wird gewartet ... 200 OK\n",
      "L\"ange: 21468796 (20M) [application/x-netcdf]\n",
      "Wird in >>HadCRUT.4.6.0.0.median.nc<< gespeichert.\n",
      "\n",
      "dCRUT.4.6.0.0.media   6%[>                   ]   1.33M   339KB/s    ETA 66s    ^C\n"
     ]
    }
   ],
   "source": [
    "!wget https://crudata.uea.ac.uk/cru/data/temperature/HadCRUT.4.6.0.0.median.nc"
   ]
  },
  {
   "cell_type": "code",
   "execution_count": null,
   "metadata": {},
   "outputs": [],
   "source": [
    "obs = xr.open_dataset('HadCRUT.4.6.0.0.median.nc')"
   ]
  },
  {
   "cell_type": "code",
   "execution_count": null,
   "metadata": {},
   "outputs": [],
   "source": [
    "obs = obs.rename({'latitude':'lat','longitude':'lon','temperature_anomaly':variable_id})[variable_id]\n",
    "\n",
    "obs = obs.sel(time=slice('1960',None))\n",
    "\n",
    "obs_ym = obs.groupby('time.year').mean().rename({'year':'time'})"
   ]
  },
  {
   "cell_type": "code",
   "execution_count": null,
   "metadata": {},
   "outputs": [],
   "source": []
  },
  {
   "cell_type": "code",
   "execution_count": null,
   "metadata": {},
   "outputs": [],
   "source": []
  },
  {
   "cell_type": "markdown",
   "metadata": {},
   "source": [
    "# regrid"
   ]
  },
  {
   "cell_type": "code",
   "execution_count": null,
   "metadata": {},
   "outputs": [],
   "source": [
    "import xesmf as xe\n",
    "\n",
    "def regrid(ds):\n",
    "    ds_out = xe.util.grid_global(5,5)\n",
    "    regridder = xe.Regridder(ds, ds_out, 'bilinear')\n",
    "    ds_out = regridder(ds)\n",
    "    return ds_out"
   ]
  },
  {
   "cell_type": "code",
   "execution_count": null,
   "metadata": {},
   "outputs": [],
   "source": [
    "hind_ym_regridded = regrid(hind_ym)\n",
    "hist_ym_regridded = regrid(hist_ym)\n",
    "obs_ym_regridded = regrid(obs_ym)"
   ]
  },
  {
   "cell_type": "markdown",
   "metadata": {},
   "source": [
    "### check the inputs"
   ]
  },
  {
   "cell_type": "code",
   "execution_count": null,
   "metadata": {},
   "outputs": [],
   "source": [
    "hind_ym_regridded.isel(member=0,lead=2,init=2).plot()"
   ]
  },
  {
   "cell_type": "code",
   "execution_count": null,
   "metadata": {},
   "outputs": [],
   "source": [
    "hist_ym_regridded.isel(member=0,time=2).plot()"
   ]
  },
  {
   "cell_type": "code",
   "execution_count": null,
   "metadata": {},
   "outputs": [],
   "source": [
    "obs_ym_regridded.isel(time=2).plot()"
   ]
  },
  {
   "cell_type": "code",
   "execution_count": null,
   "metadata": {},
   "outputs": [],
   "source": []
  },
  {
   "cell_type": "markdown",
   "metadata": {},
   "source": [
    "## Skill"
   ]
  },
  {
   "cell_type": "code",
   "execution_count": null,
   "metadata": {},
   "outputs": [],
   "source": [
    "from climpred.prediction import compute_hindcast"
   ]
  },
  {
   "cell_type": "markdown",
   "metadata": {},
   "source": [
    "## Significant skill"
   ]
  },
  {
   "cell_type": "code",
   "execution_count": null,
   "metadata": {},
   "outputs": [],
   "source": [
    "from climpred.bootstrap import bootstrap_hindcast"
   ]
  }
 ],
 "metadata": {
  "kernelspec": {
   "display_name": "xr",
   "language": "python",
   "name": "xr"
  },
  "language_info": {
   "codemirror_mode": {
    "name": "ipython",
    "version": 3
   },
   "file_extension": ".py",
   "mimetype": "text/x-python",
   "name": "python",
   "nbconvert_exporter": "python",
   "pygments_lexer": "ipython3",
   "version": "3.7.3"
  }
 },
 "nbformat": 4,
 "nbformat_minor": 4
}
